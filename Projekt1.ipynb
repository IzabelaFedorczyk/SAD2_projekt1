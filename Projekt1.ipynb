{
  "nbformat": 4,
  "nbformat_minor": 0,
  "metadata": {
    "colab": {
      "provenance": []
    },
    "kernelspec": {
      "name": "python3",
      "display_name": "Python 3"
    },
    "language_info": {
      "name": "python"
    }
  },
  "cells": [
    {
      "cell_type": "markdown",
      "source": [
        "#### Task 1"
      ],
      "metadata": {
        "id": "hFhSmUUQ205E"
      }
    },
    {
      "cell_type": "markdown",
      "source": [
        "(a)"
      ],
      "metadata": {
        "id": "__RAvpEm2-Uc"
      }
    },
    {
      "cell_type": "code",
      "execution_count": 33,
      "metadata": {
        "id": "8A_7vpJywsiY"
      },
      "outputs": [],
      "source": [
        "import scanpy as sc\n",
        "import anndata as ad\n",
        "import numpy as np\n",
        "from scipy.sparse import csr_matrix\n",
        "import pandas as pd\n",
        "import matplotlib.pylab as plt"
      ]
    },
    {
      "cell_type": "code",
      "source": [
        "pip freeze | grep matplotlib"
      ],
      "metadata": {
        "colab": {
          "base_uri": "https://localhost:8080/"
        },
        "id": "Ky9R5EHte_8e",
        "outputId": "62ddeb84-96c4-44a3-ffba-0b847516e4bf"
      },
      "execution_count": 34,
      "outputs": [
        {
          "output_type": "stream",
          "name": "stdout",
          "text": [
            "matplotlib==3.1.3\n",
            "matplotlib-venn==0.11.7\n"
          ]
        }
      ]
    },
    {
      "cell_type": "code",
      "source": [
        "train_data = sc.read_h5ad(\"/content/drive/MyDrive/MAGISTERKA/SAD2/SAD2022Z_Project1_GEX_train.h5ad\")\n",
        "# print(train_data)\n",
        "# train_data.obs_names = [f\"Cell_{i}\" for i in range(train_data.n_obs)]\n",
        "# train_data.var_names = [f\"Gene_{i}\" for i in range(train_data.n_vars)]\n",
        "# print(train_data.obs_names)"
      ],
      "metadata": {
        "id": "m0A1tVCyyEV1"
      },
      "execution_count": 35,
      "outputs": []
    },
    {
      "cell_type": "code",
      "source": [
        "test_data = sc.read_h5ad(\"/content/drive/MyDrive/MAGISTERKA/SAD2/SAD2022Z_Project1_GEX_test.h5ad\")\n",
        "# print(test_data)\n",
        "# test_data.obs_names = [f\"Cell_{i}\" for i in range(test_data.n_obs)]\n",
        "# test_data.var_names = [f\"Gene_{i}\" for i in range(test_data.n_vars)]\n",
        "# print(test_data)"
      ],
      "metadata": {
        "id": "bFYuW5-fz8Ie"
      },
      "execution_count": 36,
      "outputs": []
    },
    {
      "cell_type": "code",
      "source": [
        "print(train_data.n_obs, train_data.n_vars)"
      ],
      "metadata": {
        "colab": {
          "base_uri": "https://localhost:8080/"
        },
        "id": "_Zh7v9S80rtL",
        "outputId": "3fd42f2a-be6a-4f37-dacc-4b7eb0ca7e94"
      },
      "execution_count": 37,
      "outputs": [
        {
          "output_type": "stream",
          "name": "stdout",
          "text": [
            "72208 5000\n"
          ]
        }
      ]
    },
    {
      "cell_type": "code",
      "source": [
        "print(test_data.n_obs, test_data.n_vars)"
      ],
      "metadata": {
        "colab": {
          "base_uri": "https://localhost:8080/"
        },
        "id": "exBLeUJZ0tu1",
        "outputId": "4b469119-c700-4a00-bd9d-b8e897e6a759"
      },
      "execution_count": 38,
      "outputs": [
        {
          "output_type": "stream",
          "name": "stdout",
          "text": [
            "18052 5000\n"
          ]
        }
      ]
    },
    {
      "cell_type": "markdown",
      "source": [
        "(b)"
      ],
      "metadata": {
        "id": "C5Tcio9P3Ev3"
      }
    },
    {
      "cell_type": "code",
      "source": [
        "train_norm = train_data.X.toarray()\n",
        "train_raw = train_data.layers['counts'].toarray()\n",
        "test_norm = test_data.X.toarray()\n",
        "test_raw = test_data.layers['counts'].toarray()"
      ],
      "metadata": {
        "id": "E3RQyXML19YW"
      },
      "execution_count": 39,
      "outputs": []
    },
    {
      "cell_type": "code",
      "source": [
        "train_norm_clipped = np.clip(train_norm, 0, 20)\n",
        "train_raw_clipped = np.clip(train_raw, 0, 20)\n",
        "test_norm_clipped = np.clip(test_norm, 0, 20)\n",
        "test_raw_clipped = np.clip(test_raw, 0, 20)"
      ],
      "metadata": {
        "id": "Lkk-pndyYnXP"
      },
      "execution_count": 40,
      "outputs": []
    },
    {
      "cell_type": "code",
      "source": [
        "fig, axes = plt.subplots(2, 2, figsize = (12, 12))\n",
        "label_setter = np.vectorize(lambda ax: [ax.set_xlabel('Value'), \n",
        "                                   ax.set_ylabel('Frequency')])\n",
        "axes[0,0].hist(train_norm_clipped.reshape(-1))\n",
        "axes[0,0].set_title('Preprocessed train data')\n",
        "axes[0,1].hist(train_raw_clipped.reshape(-1))\n",
        "axes[0,1].set_title('Raw train data')\n",
        "axes[1,0].hist(test_norm_clipped.reshape(-1))\n",
        "axes[1,0].set_title('Preprocessed test data')\n",
        "axes[1,1].hist(test_raw_clipped.reshape(-1))\n",
        "axes[1,1].set_title('Raw test data')\n",
        "\n",
        "label_setter(axes)\n",
        "\n",
        "fig.show()"
      ],
      "metadata": {
        "colab": {
          "base_uri": "https://localhost:8080/",
          "height": 730
        },
        "id": "hCqNCXZw2Ujx",
        "outputId": "0aa2fb02-3e53-4dc0-fa34-16a762fb658b"
      },
      "execution_count": 41,
      "outputs": [
        {
          "output_type": "display_data",
          "data": {
            "text/plain": [
              "<Figure size 864x864 with 4 Axes>"
            ],
            "image/png": "[encoded data removed]"
          },
          "metadata": {
            "needs_background": "light"
          }
        }
      ]
    },
    {
      "cell_type": "markdown",
      "source": [
        "(c)"
      ],
      "metadata": {
        "id": "AlVaQaG_hXVl"
      }
    },
    {
      "cell_type": "code",
      "source": [],
      "metadata": {
        "id": "TRxcK-jeZ2eE"
      },
      "execution_count": 41,
      "outputs": []
    },
    {
      "cell_type": "markdown",
      "source": [
        "Has the data beeen normalized to 10k reads? "
      ],
      "metadata": {
        "id": "VPiV7D4Auh18"
      }
    },
    {
      "cell_type": "code",
      "source": [
        "train_norm.sum(axis=1)"
      ],
      "metadata": {
        "colab": {
          "base_uri": "https://localhost:8080/"
        },
        "id": "ra48NBB3geLd",
        "outputId": "78cd48de-85fa-48bc-c593-92b01d1fcab2"
      },
      "execution_count": 42,
      "outputs": [
        {
          "output_type": "execute_result",
          "data": {
            "text/plain": [
              "array([   404.05606,   3829.1133 ,   1648.1301 , ...,   5687.797  ,\n",
              "       337690.44   ,   1868.8127 ], dtype=float32)"
            ]
          },
          "metadata": {},
          "execution_count": 42
        }
      ]
    },
    {
      "cell_type": "code",
      "source": [
        "train_raw.sum(axis=1)"
      ],
      "metadata": {
        "colab": {
          "base_uri": "https://localhost:8080/"
        },
        "id": "1jgppgn0ulxy",
        "outputId": "30284cbe-4791-42ea-b227-45da77f716a6"
      },
      "execution_count": 43,
      "outputs": [
        {
          "output_type": "execute_result",
          "data": {
            "text/plain": [
              "array([  554.,  9290.,  1409., ...,  8383., 13320.,  4739.], dtype=float32)"
            ]
          },
          "metadata": {},
          "execution_count": 43
        }
      ]
    },
    {
      "cell_type": "code",
      "source": [
        "test_norm.sum(axis=1)"
      ],
      "metadata": {
        "colab": {
          "base_uri": "https://localhost:8080/"
        },
        "id": "XbZJj4Zb6idi",
        "outputId": "d31b9c9e-042c-4dcc-83fe-732fb9ee2d8c"
      },
      "execution_count": 44,
      "outputs": [
        {
          "output_type": "execute_result",
          "data": {
            "text/plain": [
              "array([ 404.05606, 3829.1133 , 1648.1301 , ..., 1747.7454 , 1648.362  ,\n",
              "       1588.0571 ], dtype=float32)"
            ]
          },
          "metadata": {},
          "execution_count": 44
        }
      ]
    },
    {
      "cell_type": "code",
      "source": [
        "test_raw.sum(axis = 1)"
      ],
      "metadata": {
        "colab": {
          "base_uri": "https://localhost:8080/"
        },
        "id": "YertvhtK6ins",
        "outputId": "f2ca0485-92b7-4b31-fa1a-40a3ed0d9904"
      },
      "execution_count": 45,
      "outputs": [
        {
          "output_type": "execute_result",
          "data": {
            "text/plain": [
              "array([ 554., 9290., 1409., ..., 2625., 1094., 1264.], dtype=float32)"
            ]
          },
          "metadata": {},
          "execution_count": 45
        }
      ]
    },
    {
      "cell_type": "markdown",
      "source": [
        "Answer = NO"
      ],
      "metadata": {
        "id": "9RjrsMCn6bI4"
      }
    },
    {
      "cell_type": "markdown",
      "source": [
        "Has it been log1p transformed?"
      ],
      "metadata": {
        "id": "GkH-2_fHvBcL"
      }
    },
    {
      "cell_type": "code",
      "source": [
        "train_norm"
      ],
      "metadata": {
        "colab": {
          "base_uri": "https://localhost:8080/"
        },
        "id": "51R3JUaG-VA6",
        "outputId": "45b588ca-01cb-44d0-ac46-052e9473e830"
      },
      "execution_count": 46,
      "outputs": [
        {
          "output_type": "execute_result",
          "data": {
            "text/plain": [
              "array([[  0.       ,   0.       ,   0.       , ...,   0.       ,\n",
              "          6.5640874,   0.       ],\n",
              "       [  0.       ,   0.       ,   0.       , ...,   0.       ,\n",
              "         39.98105  ,   0.       ],\n",
              "       [  0.       ,   1.1697162,   0.       , ...,   0.       ,\n",
              "         80.71042  ,   0.       ],\n",
              "       ...,\n",
              "       [  0.       ,   0.       ,   0.       , ...,   0.       ,\n",
              "         34.603085 ,   0.       ],\n",
              "       [  0.       ,   0.       ,   0.       , ...,   0.       ,\n",
              "        101.40853  ,   0.       ],\n",
              "       [  0.       ,   0.       ,   0.       , ...,   0.       ,\n",
              "         62.70125  ,   0.3943475]], dtype=float32)"
            ]
          },
          "metadata": {},
          "execution_count": 46
        }
      ]
    },
    {
      "cell_type": "code",
      "source": [
        "np.expm1(train_norm)"
      ],
      "metadata": {
        "colab": {
          "base_uri": "https://localhost:8080/"
        },
        "id": "pGrHxQmGH4c-",
        "outputId": "185dd8a4-be3f-4eff-888e-1a6b6c89ab84"
      },
      "execution_count": 47,
      "outputs": [
        {
          "output_type": "stream",
          "name": "stderr",
          "text": [
            "<ipython-input-47-0cf04bc19829>:1: RuntimeWarning: overflow encountered in expm1\n",
            "  np.expm1(train_norm)\n"
          ]
        },
        {
          "output_type": "execute_result",
          "data": {
            "text/plain": [
              "array([[0.0000000e+00, 0.0000000e+00, 0.0000000e+00, ..., 0.0000000e+00,\n",
              "        7.0816443e+02, 0.0000000e+00],\n",
              "       [0.0000000e+00, 0.0000000e+00, 0.0000000e+00, ..., 0.0000000e+00,\n",
              "        2.3096638e+17, 0.0000000e+00],\n",
              "       [0.0000000e+00, 2.2210784e+00, 0.0000000e+00, ..., 0.0000000e+00,\n",
              "        1.1274297e+35, 0.0000000e+00],\n",
              "       ...,\n",
              "       [0.0000000e+00, 0.0000000e+00, 0.0000000e+00, ..., 0.0000000e+00,\n",
              "        1.0664210e+15, 0.0000000e+00],\n",
              "       [0.0000000e+00, 0.0000000e+00, 0.0000000e+00, ..., 0.0000000e+00,\n",
              "                  inf, 0.0000000e+00],\n",
              "       [0.0000000e+00, 0.0000000e+00, 0.0000000e+00, ..., 0.0000000e+00,\n",
              "        1.7013987e+27, 4.8341593e-01]], dtype=float32)"
            ]
          },
          "metadata": {},
          "execution_count": 47
        }
      ]
    },
    {
      "cell_type": "code",
      "source": [
        "train_raw"
      ],
      "metadata": {
        "colab": {
          "base_uri": "https://localhost:8080/"
        },
        "id": "dCtPpDUHIXGN",
        "outputId": "8af4a4f6-c79e-4a5c-dc84-8bb1900be0fe"
      },
      "execution_count": 48,
      "outputs": [
        {
          "output_type": "execute_result",
          "data": {
            "text/plain": [
              "array([[  0.,   0.,   0., ...,   0.,   9.,   0.],\n",
              "       [  0.,   0.,   0., ...,   0.,  97.,   0.],\n",
              "       [  0.,   1.,   0., ...,   0.,  69.,   0.],\n",
              "       ...,\n",
              "       [  0.,   0.,   0., ...,   0.,  51.,   0.],\n",
              "       [  0.,   0.,   0., ...,   0.,   4.,   0.],\n",
              "       [  0.,   0.,   0., ...,   0., 159.,   1.]], dtype=float32)"
            ]
          },
          "metadata": {},
          "execution_count": 48
        }
      ]
    },
    {
      "cell_type": "markdown",
      "source": [
        "Answer = NO"
      ],
      "metadata": {
        "id": "u2cX1D7oIstR"
      }
    },
    {
      "cell_type": "markdown",
      "source": [
        "(d)"
      ],
      "metadata": {
        "id": "04Y93KqVLgtV"
      }
    },
    {
      "cell_type": "code",
      "source": [
        "train_norm = train_norm[train_norm!=0]\n",
        "train_raw = train_raw[train_raw!=0]\n",
        "test_norm = test_norm[test_norm!=0]\n",
        "test_raw = test_raw[test_raw!=0]"
      ],
      "metadata": {
        "id": "Of_rGlYcPkyG"
      },
      "execution_count": 49,
      "outputs": []
    },
    {
      "cell_type": "code",
      "source": [
        "train_norm_clipped = np.clip(train_norm, 0, 20)\n",
        "train_raw_clipped = np.clip(train_raw, 0, 20)\n",
        "test_norm_clipped = np.clip(test_norm, 0, 20)\n",
        "test_raw_clipped = np.clip(test_raw, 0, 20)"
      ],
      "metadata": {
        "id": "JMfqwJ8PM-ON"
      },
      "execution_count": 50,
      "outputs": []
    },
    {
      "cell_type": "code",
      "source": [
        "fig, axes = plt.subplots(2, 2, figsize = (15, 15))\n",
        "label_setter = np.vectorize(lambda ax: [ax.set_xlabel('Value'), \n",
        "                                   ax.set_ylabel('Frequency')])\n",
        "axes[0,0].hist(train_norm_clipped)\n",
        "axes[0,0].set_title('Preprocessed train data')\n",
        "axes[0,1].hist(train_raw_clipped)\n",
        "axes[0,1].set_title('Raw train data')\n",
        "axes[1,0].hist(test_norm_clipped)\n",
        "axes[1,0].set_title('Preprocessed test data')\n",
        "axes[1,1].hist(test_raw_clipped)\n",
        "axes[1,1].set_title('Raw test data')\n",
        "\n",
        "\n",
        "label_setter(axes)\n",
        "fig.suptitle(\"Without zeros\")\n",
        "fig.show()"
      ],
      "metadata": {
        "colab": {
          "base_uri": "https://localhost:8080/",
          "height": 895
        },
        "id": "hsGRMQNDQcjV",
        "outputId": "3ddc87b4-c137-4a5f-bef2-6c6170f0b3f5"
      },
      "execution_count": 51,
      "outputs": [
        {
          "output_type": "display_data",
          "data": {
            "text/plain": [
              "<Figure size 1080x1080 with 4 Axes>"
            ],
            "image/png": "[encoded data removed]"
          },
          "metadata": {
            "needs_background": "light"
          }
        }
      ]
    },
    {
      "cell_type": "markdown",
      "source": [
        "(e)"
      ],
      "metadata": {
        "id": "eIjP-HAOlEPl"
      }
    },
    {
      "cell_type": "markdown",
      "source": [
        "The distribution of data remind of exponential distribution. I assume that the distribution of the data is right-skewed because the data is the data of gene expression mostly from cells of the immune system. As it's more common to be healthy rather that sick (so it's more probable that grater amount of human donors from who the dataset was collected have been healthy) thus most of the genes in our dataset involved in defendence of organism have (not suprisingly) small expression. What's more to extract more valuable information from dataset it's important to remove zero values as because of the same reason I mentioned above there are a lot of them and they make it more difficult to analyse genes with actual expression which are the ones we're probably more interested in. (Zero values noise the information about the actual expression.)"
      ],
      "metadata": {
        "id": "PAaWRu28lWVv"
      }
    },
    {
      "cell_type": "markdown",
      "source": [
        "(f)"
      ],
      "metadata": {
        "id": "WisjL2EStUaa"
      }
    },
    {
      "cell_type": "code",
      "source": [
        "train_data.obs"
      ],
      "metadata": {
        "colab": {
          "base_uri": "https://localhost:8080/",
          "height": 696
        },
        "id": "Sh5zvrYmoSgo",
        "outputId": "42b2f58d-c852-49da-97c8-9ed610122031"
      },
      "execution_count": 52,
      "outputs": [
        {
          "output_type": "execute_result",
          "data": {
            "text/plain": [
              "                         GEX_n_genes_by_counts  GEX_pct_counts_mt  \\\n",
              "AGTTCCCAGCACCTGC-1-s3d1                    948           5.113025   \n",
              "CAGATTGCAAAGGCAC-1-s2d1                   2323           4.077203   \n",
              "GTCATGACAATTTCCT-1-s1d2                   1952           7.838442   \n",
              "TCATCCGCACTTGGCG-1-s2d5                   1811           7.071157   \n",
              "AGTGCCGGTCATCAGT-1-s2d5                    796           4.107981   \n",
              "...                                        ...                ...   \n",
              "AGTCATGAGGTTTACC-1-s3d7                   1108           9.544659   \n",
              "GTGAGCCTCGCAGATT-1-s2d1                   2821           9.352348   \n",
              "GTCATTTTCCATTGCC-1-s2d1                   1810           2.792384   \n",
              "CGCATGGAGAACCCGA-1-s1d1                    434           0.239860   \n",
              "TGGGAGATCCTCTGCA-1-s4d1                   3721           4.887395   \n",
              "\n",
              "                         GEX_size_factors GEX_phase  \\\n",
              "AGTTCCCAGCACCTGC-1-s3d1          1.371097       G2M   \n",
              "CAGATTGCAAAGGCAC-1-s2d1          2.426149         S   \n",
              "GTCATGACAATTTCCT-1-s1d2          0.854908       G2M   \n",
              "TCATCCGCACTTGGCG-1-s2d5          1.387475       G2M   \n",
              "AGTGCCGGTCATCAGT-1-s2d5          0.520903         S   \n",
              "...                                   ...       ...   \n",
              "AGTCATGAGGTTTACC-1-s3d7          0.616979       G2M   \n",
              "GTGAGCCTCGCAGATT-1-s2d1          3.336449         S   \n",
              "GTCATTTTCCATTGCC-1-s2d1          1.473857         S   \n",
              "CGCATGGAGAACCCGA-1-s1d1          0.039444       G2M   \n",
              "TGGGAGATCCTCTGCA-1-s4d1          2.535835         S   \n",
              "\n",
              "                         ADT_n_antibodies_by_counts  ADT_total_counts  \\\n",
              "AGTTCCCAGCACCTGC-1-s3d1                         139            2278.0   \n",
              "CAGATTGCAAAGGCAC-1-s2d1                          91            1190.0   \n",
              "GTCATGACAATTTCCT-1-s1d2                         123            4138.0   \n",
              "TCATCCGCACTTGGCG-1-s2d5                         105             707.0   \n",
              "AGTGCCGGTCATCAGT-1-s2d5                          96             945.0   \n",
              "...                                             ...               ...   \n",
              "AGTCATGAGGTTTACC-1-s3d7                         114            1140.0   \n",
              "GTGAGCCTCGCAGATT-1-s2d1                          90             474.0   \n",
              "GTCATTTTCCATTGCC-1-s2d1                          95            1327.0   \n",
              "CGCATGGAGAACCCGA-1-s1d1                         131            6829.0   \n",
              "TGGGAGATCCTCTGCA-1-s4d1                         134            6974.0   \n",
              "\n",
              "                         ADT_iso_count            cell_type batch  \\\n",
              "AGTTCCCAGCACCTGC-1-s3d1           23.0           CD14+ Mono  s3d1   \n",
              "CAGATTGCAAAGGCAC-1-s2d1            2.0         Erythroblast  s2d1   \n",
              "GTCATGACAATTTCCT-1-s1d2           14.0  Naive CD20+ B IGKC+  s1d2   \n",
              "TCATCCGCACTTGGCG-1-s2d5            2.0           CD14+ Mono  s2d5   \n",
              "AGTGCCGGTCATCAGT-1-s2d5            4.0                   NK  s2d5   \n",
              "...                                ...                  ...   ...   \n",
              "AGTCATGAGGTTTACC-1-s3d7            7.0           CD14+ Mono  s3d7   \n",
              "GTGAGCCTCGCAGATT-1-s2d1            5.0           Lymph prog  s2d1   \n",
              "GTCATTTTCCATTGCC-1-s2d1            1.0         Erythroblast  s2d1   \n",
              "CGCATGGAGAACCCGA-1-s1d1            9.0         Reticulocyte  s1d1   \n",
              "TGGGAGATCCTCTGCA-1-s4d1           31.0       Transitional B  s4d1   \n",
              "\n",
              "                         ADT_pseudotime_order  ...  DonorID DonorAge DonorBMI  \\\n",
              "AGTTCCCAGCACCTGC-1-s3d1                   NaN  ...    15078       34     24.8   \n",
              "CAGATTGCAAAGGCAC-1-s2d1              0.965441  ...    15078       34     24.8   \n",
              "GTCATGACAATTTCCT-1-s1d2                   NaN  ...    10886       35     28.6   \n",
              "TCATCCGCACTTGGCG-1-s2d5                   NaN  ...    16710       40     27.8   \n",
              "AGTGCCGGTCATCAGT-1-s2d5                   NaN  ...    16710       40     27.8   \n",
              "...                                       ...  ...      ...      ...      ...   \n",
              "AGTCATGAGGTTTACC-1-s3d7                   NaN  ...    11466       22     31.5   \n",
              "GTGAGCCTCGCAGATT-1-s2d1                   NaN  ...    15078       34     24.8   \n",
              "GTCATTTTCCATTGCC-1-s2d1              0.977025  ...    15078       34     24.8   \n",
              "CGCATGGAGAACCCGA-1-s1d1              0.726435  ...    15078       34     24.8   \n",
              "TGGGAGATCCTCTGCA-1-s4d1                   NaN  ...    15078       34     24.8   \n",
              "\n",
              "                        DonorBloodType DonorRace               Ethnicity  \\\n",
              "AGTTCCCAGCACCTGC-1-s3d1             B-     White      HISPANIC OR LATINO   \n",
              "CAGATTGCAAAGGCAC-1-s2d1             B-     White      HISPANIC OR LATINO   \n",
              "GTCATGACAATTTCCT-1-s1d2             B+     Asian  NOT HISPANIC OR LATINO   \n",
              "TCATCCGCACTTGGCG-1-s2d5             O+     White      HISPANIC OR LATINO   \n",
              "AGTGCCGGTCATCAGT-1-s2d5             O+     White      HISPANIC OR LATINO   \n",
              "...                                ...       ...                     ...   \n",
              "AGTCATGAGGTTTACC-1-s3d7             A+     Asian  NOT HISPANIC OR LATINO   \n",
              "GTGAGCCTCGCAGATT-1-s2d1             B-     White      HISPANIC OR LATINO   \n",
              "GTCATTTTCCATTGCC-1-s2d1             B-     White      HISPANIC OR LATINO   \n",
              "CGCATGGAGAACCCGA-1-s1d1             B-     White      HISPANIC OR LATINO   \n",
              "TGGGAGATCCTCTGCA-1-s4d1             B-     White      HISPANIC OR LATINO   \n",
              "\n",
              "                         DonorGender  QCMeds  DonorSmoker     is_train  \n",
              "AGTTCCCAGCACCTGC-1-s3d1         Male   False    Nonsmoker        train  \n",
              "CAGATTGCAAAGGCAC-1-s2d1         Male   False    Nonsmoker        train  \n",
              "GTCATGACAATTTCCT-1-s1d2       Female    True    Nonsmoker        train  \n",
              "TCATCCGCACTTGGCG-1-s2d5       Female   False       Smoker  iid_holdout  \n",
              "AGTGCCGGTCATCAGT-1-s2d5       Female   False       Smoker        train  \n",
              "...                              ...     ...          ...          ...  \n",
              "AGTCATGAGGTTTACC-1-s3d7       Female    True    Nonsmoker        train  \n",
              "GTGAGCCTCGCAGATT-1-s2d1         Male   False    Nonsmoker        train  \n",
              "GTCATTTTCCATTGCC-1-s2d1         Male   False    Nonsmoker        train  \n",
              "CGCATGGAGAACCCGA-1-s1d1         Male   False    Nonsmoker        train  \n",
              "TGGGAGATCCTCTGCA-1-s4d1         Male   False    Nonsmoker         test  \n",
              "\n",
              "[72208 rows x 26 columns]"
            ],
            "text/html": [
              "\n",
              "  <div id=\"df-cdf4bba9-42ab-4266-a80b-de47568dcce2\">\n",
              "    <div class=\"colab-df-container\">\n",
              "      <div>\n",
              "<style scoped>\n",
              "    .dataframe tbody tr th:only-of-type {\n",
              "        vertical-align: middle;\n",
              "    }\n",
              "\n",
              "    .dataframe tbody tr th {\n",
              "        vertical-align: top;\n",
              "    }\n",
              "\n",
              "    .dataframe thead th {\n",
              "        text-align: right;\n",
              "    }\n",
              "</style>\n",
              "<table border=\"1\" class=\"dataframe\">\n",
              "  <thead>\n",
              "    <tr style=\"text-align: right;\">\n",
              "      <th></th>\n",
              "      <th>GEX_n_genes_by_counts</th>\n",
              "      <th>GEX_pct_counts_mt</th>\n",
              "      <th>GEX_size_factors</th>\n",
              "      <th>GEX_phase</th>\n",
              "      <th>ADT_n_antibodies_by_counts</th>\n",
              "      <th>ADT_total_counts</th>\n",
              "      <th>ADT_iso_count</th>\n",
              "      <th>cell_type</th>\n",
              "      <th>batch</th>\n",
              "      <th>ADT_pseudotime_order</th>\n",
              "      <th>...</th>\n",
              "      <th>DonorID</th>\n",
              "      <th>DonorAge</th>\n",
              "      <th>DonorBMI</th>\n",
              "      <th>DonorBloodType</th>\n",
              "      <th>DonorRace</th>\n",
              "      <th>Ethnicity</th>\n",
              "      <th>DonorGender</th>\n",
              "      <th>QCMeds</th>\n",
              "      <th>DonorSmoker</th>\n",
              "      <th>is_train</th>\n",
              "    </tr>\n",
              "  </thead>\n",
              "  <tbody>\n",
              "    <tr>\n",
              "      <th>AGTTCCCAGCACCTGC-1-s3d1</th>\n",
              "      <td>948</td>\n",
              "      <td>5.113025</td>\n",
              "      <td>1.371097</td>\n",
              "      <td>G2M</td>\n",
              "      <td>139</td>\n",
              "      <td>2278.0</td>\n",
              "      <td>23.0</td>\n",
              "      <td>CD14+ Mono</td>\n",
              "      <td>s3d1</td>\n",
              "      <td>NaN</td>\n",
              "      <td>...</td>\n",
              "      <td>15078</td>\n",
              "      <td>34</td>\n",
              "      <td>24.8</td>\n",
              "      <td>B-</td>\n",
              "      <td>White</td>\n",
              "      <td>HISPANIC OR LATINO</td>\n",
              "      <td>Male</td>\n",
              "      <td>False</td>\n",
              "      <td>Nonsmoker</td>\n",
              "      <td>train</td>\n",
              "    </tr>\n",
              "    <tr>\n",
              "      <th>CAGATTGCAAAGGCAC-1-s2d1</th>\n",
              "      <td>2323</td>\n",
              "      <td>4.077203</td>\n",
              "      <td>2.426149</td>\n",
              "      <td>S</td>\n",
              "      <td>91</td>\n",
              "      <td>1190.0</td>\n",
              "      <td>2.0</td>\n",
              "      <td>Erythroblast</td>\n",
              "      <td>s2d1</td>\n",
              "      <td>0.965441</td>\n",
              "      <td>...</td>\n",
              "      <td>15078</td>\n",
              "      <td>34</td>\n",
              "      <td>24.8</td>\n",
              "      <td>B-</td>\n",
              "      <td>White</td>\n",
              "      <td>HISPANIC OR LATINO</td>\n",
              "      <td>Male</td>\n",
              "      <td>False</td>\n",
              "      <td>Nonsmoker</td>\n",
              "      <td>train</td>\n",
              "    </tr>\n",
              "    <tr>\n",
              "      <th>GTCATGACAATTTCCT-1-s1d2</th>\n",
              "      <td>1952</td>\n",
              "      <td>7.838442</td>\n",
              "      <td>0.854908</td>\n",
              "      <td>G2M</td>\n",
              "      <td>123</td>\n",
              "      <td>4138.0</td>\n",
              "      <td>14.0</td>\n",
              "      <td>Naive CD20+ B IGKC+</td>\n",
              "      <td>s1d2</td>\n",
              "      <td>NaN</td>\n",
              "      <td>...</td>\n",
              "      <td>10886</td>\n",
              "      <td>35</td>\n",
              "      <td>28.6</td>\n",
              "      <td>B+</td>\n",
              "      <td>Asian</td>\n",
              "      <td>NOT HISPANIC OR LATINO</td>\n",
              "      <td>Female</td>\n",
              "      <td>True</td>\n",
              "      <td>Nonsmoker</td>\n",
              "      <td>train</td>\n",
              "    </tr>\n",
              "    <tr>\n",
              "      <th>TCATCCGCACTTGGCG-1-s2d5</th>\n",
              "      <td>1811</td>\n",
              "      <td>7.071157</td>\n",
              "      <td>1.387475</td>\n",
              "      <td>G2M</td>\n",
              "      <td>105</td>\n",
              "      <td>707.0</td>\n",
              "      <td>2.0</td>\n",
              "      <td>CD14+ Mono</td>\n",
              "      <td>s2d5</td>\n",
              "      <td>NaN</td>\n",
              "      <td>...</td>\n",
              "      <td>16710</td>\n",
              "      <td>40</td>\n",
              "      <td>27.8</td>\n",
              "      <td>O+</td>\n",
              "      <td>White</td>\n",
              "      <td>HISPANIC OR LATINO</td>\n",
              "      <td>Female</td>\n",
              "      <td>False</td>\n",
              "      <td>Smoker</td>\n",
              "      <td>iid_holdout</td>\n",
              "    </tr>\n",
              "    <tr>\n",
              "      <th>AGTGCCGGTCATCAGT-1-s2d5</th>\n",
              "      <td>796</td>\n",
              "      <td>4.107981</td>\n",
              "      <td>0.520903</td>\n",
              "      <td>S</td>\n",
              "      <td>96</td>\n",
              "      <td>945.0</td>\n",
              "      <td>4.0</td>\n",
              "      <td>NK</td>\n",
              "      <td>s2d5</td>\n",
              "      <td>NaN</td>\n",
              "      <td>...</td>\n",
              "      <td>16710</td>\n",
              "      <td>40</td>\n",
              "      <td>27.8</td>\n",
              "      <td>O+</td>\n",
              "      <td>White</td>\n",
              "      <td>HISPANIC OR LATINO</td>\n",
              "      <td>Female</td>\n",
              "      <td>False</td>\n",
              "      <td>Smoker</td>\n",
              "      <td>train</td>\n",
              "    </tr>\n",
              "    <tr>\n",
              "      <th>...</th>\n",
              "      <td>...</td>\n",
              "      <td>...</td>\n",
              "      <td>...</td>\n",
              "      <td>...</td>\n",
              "      <td>...</td>\n",
              "      <td>...</td>\n",
              "      <td>...</td>\n",
              "      <td>...</td>\n",
              "      <td>...</td>\n",
              "      <td>...</td>\n",
              "      <td>...</td>\n",
              "      <td>...</td>\n",
              "      <td>...</td>\n",
              "      <td>...</td>\n",
              "      <td>...</td>\n",
              "      <td>...</td>\n",
              "      <td>...</td>\n",
              "      <td>...</td>\n",
              "      <td>...</td>\n",
              "      <td>...</td>\n",
              "      <td>...</td>\n",
              "    </tr>\n",
              "    <tr>\n",
              "      <th>AGTCATGAGGTTTACC-1-s3d7</th>\n",
              "      <td>1108</td>\n",
              "      <td>9.544659</td>\n",
              "      <td>0.616979</td>\n",
              "      <td>G2M</td>\n",
              "      <td>114</td>\n",
              "      <td>1140.0</td>\n",
              "      <td>7.0</td>\n",
              "      <td>CD14+ Mono</td>\n",
              "      <td>s3d7</td>\n",
              "      <td>NaN</td>\n",
              "      <td>...</td>\n",
              "      <td>11466</td>\n",
              "      <td>22</td>\n",
              "      <td>31.5</td>\n",
              "      <td>A+</td>\n",
              "      <td>Asian</td>\n",
              "      <td>NOT HISPANIC OR LATINO</td>\n",
              "      <td>Female</td>\n",
              "      <td>True</td>\n",
              "      <td>Nonsmoker</td>\n",
              "      <td>train</td>\n",
              "    </tr>\n",
              "    <tr>\n",
              "      <th>GTGAGCCTCGCAGATT-1-s2d1</th>\n",
              "      <td>2821</td>\n",
              "      <td>9.352348</td>\n",
              "      <td>3.336449</td>\n",
              "      <td>S</td>\n",
              "      <td>90</td>\n",
              "      <td>474.0</td>\n",
              "      <td>5.0</td>\n",
              "      <td>Lymph prog</td>\n",
              "      <td>s2d1</td>\n",
              "      <td>NaN</td>\n",
              "      <td>...</td>\n",
              "      <td>15078</td>\n",
              "      <td>34</td>\n",
              "      <td>24.8</td>\n",
              "      <td>B-</td>\n",
              "      <td>White</td>\n",
              "      <td>HISPANIC OR LATINO</td>\n",
              "      <td>Male</td>\n",
              "      <td>False</td>\n",
              "      <td>Nonsmoker</td>\n",
              "      <td>train</td>\n",
              "    </tr>\n",
              "    <tr>\n",
              "      <th>GTCATTTTCCATTGCC-1-s2d1</th>\n",
              "      <td>1810</td>\n",
              "      <td>2.792384</td>\n",
              "      <td>1.473857</td>\n",
              "      <td>S</td>\n",
              "      <td>95</td>\n",
              "      <td>1327.0</td>\n",
              "      <td>1.0</td>\n",
              "      <td>Erythroblast</td>\n",
              "      <td>s2d1</td>\n",
              "      <td>0.977025</td>\n",
              "      <td>...</td>\n",
              "      <td>15078</td>\n",
              "      <td>34</td>\n",
              "      <td>24.8</td>\n",
              "      <td>B-</td>\n",
              "      <td>White</td>\n",
              "      <td>HISPANIC OR LATINO</td>\n",
              "      <td>Male</td>\n",
              "      <td>False</td>\n",
              "      <td>Nonsmoker</td>\n",
              "      <td>train</td>\n",
              "    </tr>\n",
              "    <tr>\n",
              "      <th>CGCATGGAGAACCCGA-1-s1d1</th>\n",
              "      <td>434</td>\n",
              "      <td>0.239860</td>\n",
              "      <td>0.039444</td>\n",
              "      <td>G2M</td>\n",
              "      <td>131</td>\n",
              "      <td>6829.0</td>\n",
              "      <td>9.0</td>\n",
              "      <td>Reticulocyte</td>\n",
              "      <td>s1d1</td>\n",
              "      <td>0.726435</td>\n",
              "      <td>...</td>\n",
              "      <td>15078</td>\n",
              "      <td>34</td>\n",
              "      <td>24.8</td>\n",
              "      <td>B-</td>\n",
              "      <td>White</td>\n",
              "      <td>HISPANIC OR LATINO</td>\n",
              "      <td>Male</td>\n",
              "      <td>False</td>\n",
              "      <td>Nonsmoker</td>\n",
              "      <td>train</td>\n",
              "    </tr>\n",
              "    <tr>\n",
              "      <th>TGGGAGATCCTCTGCA-1-s4d1</th>\n",
              "      <td>3721</td>\n",
              "      <td>4.887395</td>\n",
              "      <td>2.535835</td>\n",
              "      <td>S</td>\n",
              "      <td>134</td>\n",
              "      <td>6974.0</td>\n",
              "      <td>31.0</td>\n",
              "      <td>Transitional B</td>\n",
              "      <td>s4d1</td>\n",
              "      <td>NaN</td>\n",
              "      <td>...</td>\n",
              "      <td>15078</td>\n",
              "      <td>34</td>\n",
              "      <td>24.8</td>\n",
              "      <td>B-</td>\n",
              "      <td>White</td>\n",
              "      <td>HISPANIC OR LATINO</td>\n",
              "      <td>Male</td>\n",
              "      <td>False</td>\n",
              "      <td>Nonsmoker</td>\n",
              "      <td>test</td>\n",
              "    </tr>\n",
              "  </tbody>\n",
              "</table>\n",
              "<p>72208 rows × 26 columns</p>\n",
              "</div>\n",
              "      <button class=\"colab-df-convert\" onclick=\"convertToInteractive('df-cdf4bba9-42ab-4266-a80b-de47568dcce2')\"\n",
              "              title=\"Convert this dataframe to an interactive table.\"\n",
              "              style=\"display:none;\">\n",
              "        \n",
              "  <svg xmlns=\"http://www.w3.org/2000/svg\" height=\"24px\"viewBox=\"0 0 24 24\"\n",
              "       width=\"24px\">\n",
              "    <path d=\"M0 0h24v24H0V0z\" fill=\"none\"/>\n",
              "    <path d=\"M18.56 5.44l.94 2.06.94-2.06 2.06-.94-2.06-.94-.94-2.06-.94 2.06-2.06.94zm-11 1L8.5 8.5l.94-2.06 2.06-.94-2.06-.94L8.5 2.5l-.94 2.06-2.06.94zm10 10l.94 2.06.94-2.06 2.06-.94-2.06-.94-.94-2.06-.94 2.06-2.06.94z\"/><path d=\"M17.41 7.96l-1.37-1.37c-.4-.4-.92-.59-1.43-.59-.52 0-1.04.2-1.43.59L10.3 9.45l-7.72 7.72c-.78.78-.78 2.05 0 2.83L4 21.41c.39.39.9.59 1.41.59.51 0 1.02-.2 1.41-.59l7.78-7.78 2.81-2.81c.8-.78.8-2.07 0-2.86zM5.41 20L4 18.59l7.72-7.72 1.47 1.35L5.41 20z\"/>\n",
              "  </svg>\n",
              "      </button>\n",
              "      \n",
              "  <style>\n",
              "    .colab-df-container {\n",
              "      display:flex;\n",
              "      flex-wrap:wrap;\n",
              "      gap: 12px;\n",
              "    }\n",
              "\n",
              "    .colab-df-convert {\n",
              "      background-color: #E8F0FE;\n",
              "      border: none;\n",
              "      border-radius: 50%;\n",
              "      cursor: pointer;\n",
              "      display: none;\n",
              "      fill: #1967D2;\n",
              "      height: 32px;\n",
              "      padding: 0 0 0 0;\n",
              "      width: 32px;\n",
              "    }\n",
              "\n",
              "    .colab-df-convert:hover {\n",
              "      background-color: #E2EBFA;\n",
              "      box-shadow: 0px 1px 2px rgba(60, 64, 67, 0.3), 0px 1px 3px 1px rgba(60, 64, 67, 0.15);\n",
              "      fill: #174EA6;\n",
              "    }\n",
              "\n",
              "    [theme=dark] .colab-df-convert {\n",
              "      background-color: #3B4455;\n",
              "      fill: #D2E3FC;\n",
              "    }\n",
              "\n",
              "    [theme=dark] .colab-df-convert:hover {\n",
              "      background-color: #434B5C;\n",
              "      box-shadow: 0px 1px 3px 1px rgba(0, 0, 0, 0.15);\n",
              "      filter: drop-shadow(0px 1px 2px rgba(0, 0, 0, 0.3));\n",
              "      fill: #FFFFFF;\n",
              "    }\n",
              "  </style>\n",
              "\n",
              "      <script>\n",
              "        const buttonEl =\n",
              "          document.querySelector('#df-cdf4bba9-42ab-4266-a80b-de47568dcce2 button.colab-df-convert');\n",
              "        buttonEl.style.display =\n",
              "          google.colab.kernel.accessAllowed ? 'block' : 'none';\n",
              "\n",
              "        async function convertToInteractive(key) {\n",
              "          const element = document.querySelector('#df-cdf4bba9-42ab-4266-a80b-de47568dcce2');\n",
              "          const dataTable =\n",
              "            await google.colab.kernel.invokeFunction('convertToInteractive',\n",
              "                                                     [key], {});\n",
              "          if (!dataTable) return;\n",
              "\n",
              "          const docLinkHtml = 'Like what you see? Visit the ' +\n",
              "            '<a target=\"_blank\" href=https://colab.research.google.com/notebooks/data_table.ipynb>data table notebook</a>'\n",
              "            + ' to learn more about interactive tables.';\n",
              "          element.innerHTML = '';\n",
              "          dataTable['output_type'] = 'display_data';\n",
              "          await google.colab.output.renderOutput(dataTable, element);\n",
              "          const docLink = document.createElement('div');\n",
              "          docLink.innerHTML = docLinkHtml;\n",
              "          element.appendChild(docLink);\n",
              "        }\n",
              "      </script>\n",
              "    </div>\n",
              "  </div>\n",
              "  "
            ]
          },
          "metadata": {},
          "execution_count": 52
        }
      ]
    },
    {
      "cell_type": "code",
      "source": [
        "test_data.obs"
      ],
      "metadata": {
        "colab": {
          "base_uri": "https://localhost:8080/",
          "height": 713
        },
        "id": "eFJk916ouzVs",
        "outputId": "d09a3312-4a8f-40be-ea0d-ad08dcb688db"
      },
      "execution_count": 53,
      "outputs": [
        {
          "output_type": "execute_result",
          "data": {
            "text/plain": [
              "                         GEX_n_genes_by_counts  GEX_pct_counts_mt  \\\n",
              "AGTTCCCAGCACCTGC-1-s3d1                    948           5.113025   \n",
              "CAGATTGCAAAGGCAC-1-s2d1                   2323           4.077203   \n",
              "GTCATGACAATTTCCT-1-s1d2                   1952           7.838442   \n",
              "TCATCCGCACTTGGCG-1-s2d5                   1811           7.071157   \n",
              "AGTGCCGGTCATCAGT-1-s2d5                    796           4.107981   \n",
              "...                                        ...                ...   \n",
              "TAGATCGCAATTCTCT-1-s3d7                   1060          19.200811   \n",
              "CTGCAGGCACTACACA-1-s3d6                   1594           8.558002   \n",
              "GTGAGTTGTCCAGTTA-1-s2d4                   2723           9.221835   \n",
              "ATGAGGGCAGACCGCT-1-s4d1                   1527           4.393116   \n",
              "GCACGGTGTTGTACGT-1-s4d1                   1776           6.349459   \n",
              "\n",
              "                         GEX_size_factors GEX_phase  \\\n",
              "AGTTCCCAGCACCTGC-1-s3d1          1.371097       G2M   \n",
              "CAGATTGCAAAGGCAC-1-s2d1          2.426149         S   \n",
              "GTCATGACAATTTCCT-1-s1d2          0.854908       G2M   \n",
              "TCATCCGCACTTGGCG-1-s2d5          1.387475       G2M   \n",
              "AGTGCCGGTCATCAGT-1-s2d5          0.520903         S   \n",
              "...                                   ...       ...   \n",
              "TAGATCGCAATTCTCT-1-s3d7          0.517091       G2M   \n",
              "CTGCAGGCACTACACA-1-s3d6          1.054544         S   \n",
              "GTGAGTTGTCCAGTTA-1-s2d4          1.501935       G2M   \n",
              "ATGAGGGCAGACCGCT-1-s4d1          0.663689        G1   \n",
              "GCACGGTGTTGTACGT-1-s4d1          0.795941       G2M   \n",
              "\n",
              "                         ADT_n_antibodies_by_counts  ADT_total_counts  \\\n",
              "AGTTCCCAGCACCTGC-1-s3d1                         139            2278.0   \n",
              "CAGATTGCAAAGGCAC-1-s2d1                          91            1190.0   \n",
              "GTCATGACAATTTCCT-1-s1d2                         123            4138.0   \n",
              "TCATCCGCACTTGGCG-1-s2d5                         105             707.0   \n",
              "AGTGCCGGTCATCAGT-1-s2d5                          96             945.0   \n",
              "...                                             ...               ...   \n",
              "TAGATCGCAATTCTCT-1-s3d7                         109             734.0   \n",
              "CTGCAGGCACTACACA-1-s3d6                         112             453.0   \n",
              "GTGAGTTGTCCAGTTA-1-s2d4                         104             371.0   \n",
              "ATGAGGGCAGACCGCT-1-s4d1                         131            3508.0   \n",
              "GCACGGTGTTGTACGT-1-s4d1                         136            5840.0   \n",
              "\n",
              "                         ADT_iso_count            cell_type batch  \\\n",
              "AGTTCCCAGCACCTGC-1-s3d1           23.0           CD14+ Mono  s3d1   \n",
              "CAGATTGCAAAGGCAC-1-s2d1            2.0         Erythroblast  s2d1   \n",
              "GTCATGACAATTTCCT-1-s1d2           14.0  Naive CD20+ B IGKC+  s1d2   \n",
              "TCATCCGCACTTGGCG-1-s2d5            2.0           CD14+ Mono  s2d5   \n",
              "AGTGCCGGTCATCAGT-1-s2d5            4.0                   NK  s2d5   \n",
              "...                                ...                  ...   ...   \n",
              "TAGATCGCAATTCTCT-1-s3d7            7.0           CD16+ Mono  s3d7   \n",
              "CTGCAGGCACTACACA-1-s3d6            7.0             G/M prog  s3d6   \n",
              "GTGAGTTGTCCAGTTA-1-s2d4            4.0           CD14+ Mono  s2d4   \n",
              "ATGAGGGCAGACCGCT-1-s4d1           28.0         CD4+ T naive  s4d1   \n",
              "GCACGGTGTTGTACGT-1-s4d1           29.0           B1 B IGKC+  s4d1   \n",
              "\n",
              "                         ADT_pseudotime_order  ...  DonorID DonorAge DonorBMI  \\\n",
              "AGTTCCCAGCACCTGC-1-s3d1                   NaN  ...    15078       34     24.8   \n",
              "CAGATTGCAAAGGCAC-1-s2d1              0.965441  ...    15078       34     24.8   \n",
              "GTCATGACAATTTCCT-1-s1d2                   NaN  ...    10886       35     28.6   \n",
              "TCATCCGCACTTGGCG-1-s2d5                   NaN  ...    16710       40     27.8   \n",
              "AGTGCCGGTCATCAGT-1-s2d5                   NaN  ...    16710       40     27.8   \n",
              "...                                       ...  ...      ...      ...      ...   \n",
              "TAGATCGCAATTCTCT-1-s3d7                   NaN  ...    11466       22     31.5   \n",
              "CTGCAGGCACTACACA-1-s3d6                   NaN  ...    28045       36     23.8   \n",
              "GTGAGTTGTCCAGTTA-1-s2d4                   NaN  ...    12710       27     32.1   \n",
              "ATGAGGGCAGACCGCT-1-s4d1                   NaN  ...    15078       34     24.8   \n",
              "GCACGGTGTTGTACGT-1-s4d1                   NaN  ...    15078       34     24.8   \n",
              "\n",
              "                        DonorBloodType   DonorRace               Ethnicity  \\\n",
              "AGTTCCCAGCACCTGC-1-s3d1             B-       White      HISPANIC OR LATINO   \n",
              "CAGATTGCAAAGGCAC-1-s2d1             B-       White      HISPANIC OR LATINO   \n",
              "GTCATGACAATTTCCT-1-s1d2             B+       Asian  NOT HISPANIC OR LATINO   \n",
              "TCATCCGCACTTGGCG-1-s2d5             O+       White      HISPANIC OR LATINO   \n",
              "AGTGCCGGTCATCAGT-1-s2d5             O+       White      HISPANIC OR LATINO   \n",
              "...                                ...         ...                     ...   \n",
              "TAGATCGCAATTCTCT-1-s3d7             A+       Asian  NOT HISPANIC OR LATINO   \n",
              "CTGCAGGCACTACACA-1-s3d6             A+  Other Race      HISPANIC OR LATINO   \n",
              "GTGAGTTGTCCAGTTA-1-s2d4             O+       White  NOT HISPANIC OR LATINO   \n",
              "ATGAGGGCAGACCGCT-1-s4d1             B-       White      HISPANIC OR LATINO   \n",
              "GCACGGTGTTGTACGT-1-s4d1             B-       White      HISPANIC OR LATINO   \n",
              "\n",
              "                         DonorGender  QCMeds  DonorSmoker     is_train  \n",
              "AGTTCCCAGCACCTGC-1-s3d1         Male   False    Nonsmoker        train  \n",
              "CAGATTGCAAAGGCAC-1-s2d1         Male   False    Nonsmoker        train  \n",
              "GTCATGACAATTTCCT-1-s1d2       Female    True    Nonsmoker        train  \n",
              "TCATCCGCACTTGGCG-1-s2d5       Female   False       Smoker  iid_holdout  \n",
              "AGTGCCGGTCATCAGT-1-s2d5       Female   False       Smoker        train  \n",
              "...                              ...     ...          ...          ...  \n",
              "TAGATCGCAATTCTCT-1-s3d7       Female    True    Nonsmoker        train  \n",
              "CTGCAGGCACTACACA-1-s3d6       Female   False    Nonsmoker        train  \n",
              "GTGAGTTGTCCAGTTA-1-s2d4         Male   False    Nonsmoker        train  \n",
              "ATGAGGGCAGACCGCT-1-s4d1         Male   False    Nonsmoker         test  \n",
              "GCACGGTGTTGTACGT-1-s4d1         Male   False    Nonsmoker         test  \n",
              "\n",
              "[18052 rows x 26 columns]"
            ],
            "text/html": [
              "\n",
              "  <div id=\"df-3cb5a1b8-9fcb-41ff-84f8-483de5e9ce84\">\n",
              "    <div class=\"colab-df-container\">\n",
              "      <div>\n",
              "<style scoped>\n",
              "    .dataframe tbody tr th:only-of-type {\n",
              "        vertical-align: middle;\n",
              "    }\n",
              "\n",
              "    .dataframe tbody tr th {\n",
              "        vertical-align: top;\n",
              "    }\n",
              "\n",
              "    .dataframe thead th {\n",
              "        text-align: right;\n",
              "    }\n",
              "</style>\n",
              "<table border=\"1\" class=\"dataframe\">\n",
              "  <thead>\n",
              "    <tr style=\"text-align: right;\">\n",
              "      <th></th>\n",
              "      <th>GEX_n_genes_by_counts</th>\n",
              "      <th>GEX_pct_counts_mt</th>\n",
              "      <th>GEX_size_factors</th>\n",
              "      <th>GEX_phase</th>\n",
              "      <th>ADT_n_antibodies_by_counts</th>\n",
              "      <th>ADT_total_counts</th>\n",
              "      <th>ADT_iso_count</th>\n",
              "      <th>cell_type</th>\n",
              "      <th>batch</th>\n",
              "      <th>ADT_pseudotime_order</th>\n",
              "      <th>...</th>\n",
              "      <th>DonorID</th>\n",
              "      <th>DonorAge</th>\n",
              "      <th>DonorBMI</th>\n",
              "      <th>DonorBloodType</th>\n",
              "      <th>DonorRace</th>\n",
              "      <th>Ethnicity</th>\n",
              "      <th>DonorGender</th>\n",
              "      <th>QCMeds</th>\n",
              "      <th>DonorSmoker</th>\n",
              "      <th>is_train</th>\n",
              "    </tr>\n",
              "  </thead>\n",
              "  <tbody>\n",
              "    <tr>\n",
              "      <th>AGTTCCCAGCACCTGC-1-s3d1</th>\n",
              "      <td>948</td>\n",
              "      <td>5.113025</td>\n",
              "      <td>1.371097</td>\n",
              "      <td>G2M</td>\n",
              "      <td>139</td>\n",
              "      <td>2278.0</td>\n",
              "      <td>23.0</td>\n",
              "      <td>CD14+ Mono</td>\n",
              "      <td>s3d1</td>\n",
              "      <td>NaN</td>\n",
              "      <td>...</td>\n",
              "      <td>15078</td>\n",
              "      <td>34</td>\n",
              "      <td>24.8</td>\n",
              "      <td>B-</td>\n",
              "      <td>White</td>\n",
              "      <td>HISPANIC OR LATINO</td>\n",
              "      <td>Male</td>\n",
              "      <td>False</td>\n",
              "      <td>Nonsmoker</td>\n",
              "      <td>train</td>\n",
              "    </tr>\n",
              "    <tr>\n",
              "      <th>CAGATTGCAAAGGCAC-1-s2d1</th>\n",
              "      <td>2323</td>\n",
              "      <td>4.077203</td>\n",
              "      <td>2.426149</td>\n",
              "      <td>S</td>\n",
              "      <td>91</td>\n",
              "      <td>1190.0</td>\n",
              "      <td>2.0</td>\n",
              "      <td>Erythroblast</td>\n",
              "      <td>s2d1</td>\n",
              "      <td>0.965441</td>\n",
              "      <td>...</td>\n",
              "      <td>15078</td>\n",
              "      <td>34</td>\n",
              "      <td>24.8</td>\n",
              "      <td>B-</td>\n",
              "      <td>White</td>\n",
              "      <td>HISPANIC OR LATINO</td>\n",
              "      <td>Male</td>\n",
              "      <td>False</td>\n",
              "      <td>Nonsmoker</td>\n",
              "      <td>train</td>\n",
              "    </tr>\n",
              "    <tr>\n",
              "      <th>GTCATGACAATTTCCT-1-s1d2</th>\n",
              "      <td>1952</td>\n",
              "      <td>7.838442</td>\n",
              "      <td>0.854908</td>\n",
              "      <td>G2M</td>\n",
              "      <td>123</td>\n",
              "      <td>4138.0</td>\n",
              "      <td>14.0</td>\n",
              "      <td>Naive CD20+ B IGKC+</td>\n",
              "      <td>s1d2</td>\n",
              "      <td>NaN</td>\n",
              "      <td>...</td>\n",
              "      <td>10886</td>\n",
              "      <td>35</td>\n",
              "      <td>28.6</td>\n",
              "      <td>B+</td>\n",
              "      <td>Asian</td>\n",
              "      <td>NOT HISPANIC OR LATINO</td>\n",
              "      <td>Female</td>\n",
              "      <td>True</td>\n",
              "      <td>Nonsmoker</td>\n",
              "      <td>train</td>\n",
              "    </tr>\n",
              "    <tr>\n",
              "      <th>TCATCCGCACTTGGCG-1-s2d5</th>\n",
              "      <td>1811</td>\n",
              "      <td>7.071157</td>\n",
              "      <td>1.387475</td>\n",
              "      <td>G2M</td>\n",
              "      <td>105</td>\n",
              "      <td>707.0</td>\n",
              "      <td>2.0</td>\n",
              "      <td>CD14+ Mono</td>\n",
              "      <td>s2d5</td>\n",
              "      <td>NaN</td>\n",
              "      <td>...</td>\n",
              "      <td>16710</td>\n",
              "      <td>40</td>\n",
              "      <td>27.8</td>\n",
              "      <td>O+</td>\n",
              "      <td>White</td>\n",
              "      <td>HISPANIC OR LATINO</td>\n",
              "      <td>Female</td>\n",
              "      <td>False</td>\n",
              "      <td>Smoker</td>\n",
              "      <td>iid_holdout</td>\n",
              "    </tr>\n",
              "    <tr>\n",
              "      <th>AGTGCCGGTCATCAGT-1-s2d5</th>\n",
              "      <td>796</td>\n",
              "      <td>4.107981</td>\n",
              "      <td>0.520903</td>\n",
              "      <td>S</td>\n",
              "      <td>96</td>\n",
              "      <td>945.0</td>\n",
              "      <td>4.0</td>\n",
              "      <td>NK</td>\n",
              "      <td>s2d5</td>\n",
              "      <td>NaN</td>\n",
              "      <td>...</td>\n",
              "      <td>16710</td>\n",
              "      <td>40</td>\n",
              "      <td>27.8</td>\n",
              "      <td>O+</td>\n",
              "      <td>White</td>\n",
              "      <td>HISPANIC OR LATINO</td>\n",
              "      <td>Female</td>\n",
              "      <td>False</td>\n",
              "      <td>Smoker</td>\n",
              "      <td>train</td>\n",
              "    </tr>\n",
              "    <tr>\n",
              "      <th>...</th>\n",
              "      <td>...</td>\n",
              "      <td>...</td>\n",
              "      <td>...</td>\n",
              "      <td>...</td>\n",
              "      <td>...</td>\n",
              "      <td>...</td>\n",
              "      <td>...</td>\n",
              "      <td>...</td>\n",
              "      <td>...</td>\n",
              "      <td>...</td>\n",
              "      <td>...</td>\n",
              "      <td>...</td>\n",
              "      <td>...</td>\n",
              "      <td>...</td>\n",
              "      <td>...</td>\n",
              "      <td>...</td>\n",
              "      <td>...</td>\n",
              "      <td>...</td>\n",
              "      <td>...</td>\n",
              "      <td>...</td>\n",
              "      <td>...</td>\n",
              "    </tr>\n",
              "    <tr>\n",
              "      <th>TAGATCGCAATTCTCT-1-s3d7</th>\n",
              "      <td>1060</td>\n",
              "      <td>19.200811</td>\n",
              "      <td>0.517091</td>\n",
              "      <td>G2M</td>\n",
              "      <td>109</td>\n",
              "      <td>734.0</td>\n",
              "      <td>7.0</td>\n",
              "      <td>CD16+ Mono</td>\n",
              "      <td>s3d7</td>\n",
              "      <td>NaN</td>\n",
              "      <td>...</td>\n",
              "      <td>11466</td>\n",
              "      <td>22</td>\n",
              "      <td>31.5</td>\n",
              "      <td>A+</td>\n",
              "      <td>Asian</td>\n",
              "      <td>NOT HISPANIC OR LATINO</td>\n",
              "      <td>Female</td>\n",
              "      <td>True</td>\n",
              "      <td>Nonsmoker</td>\n",
              "      <td>train</td>\n",
              "    </tr>\n",
              "    <tr>\n",
              "      <th>CTGCAGGCACTACACA-1-s3d6</th>\n",
              "      <td>1594</td>\n",
              "      <td>8.558002</td>\n",
              "      <td>1.054544</td>\n",
              "      <td>S</td>\n",
              "      <td>112</td>\n",
              "      <td>453.0</td>\n",
              "      <td>7.0</td>\n",
              "      <td>G/M prog</td>\n",
              "      <td>s3d6</td>\n",
              "      <td>NaN</td>\n",
              "      <td>...</td>\n",
              "      <td>28045</td>\n",
              "      <td>36</td>\n",
              "      <td>23.8</td>\n",
              "      <td>A+</td>\n",
              "      <td>Other Race</td>\n",
              "      <td>HISPANIC OR LATINO</td>\n",
              "      <td>Female</td>\n",
              "      <td>False</td>\n",
              "      <td>Nonsmoker</td>\n",
              "      <td>train</td>\n",
              "    </tr>\n",
              "    <tr>\n",
              "      <th>GTGAGTTGTCCAGTTA-1-s2d4</th>\n",
              "      <td>2723</td>\n",
              "      <td>9.221835</td>\n",
              "      <td>1.501935</td>\n",
              "      <td>G2M</td>\n",
              "      <td>104</td>\n",
              "      <td>371.0</td>\n",
              "      <td>4.0</td>\n",
              "      <td>CD14+ Mono</td>\n",
              "      <td>s2d4</td>\n",
              "      <td>NaN</td>\n",
              "      <td>...</td>\n",
              "      <td>12710</td>\n",
              "      <td>27</td>\n",
              "      <td>32.1</td>\n",
              "      <td>O+</td>\n",
              "      <td>White</td>\n",
              "      <td>NOT HISPANIC OR LATINO</td>\n",
              "      <td>Male</td>\n",
              "      <td>False</td>\n",
              "      <td>Nonsmoker</td>\n",
              "      <td>train</td>\n",
              "    </tr>\n",
              "    <tr>\n",
              "      <th>ATGAGGGCAGACCGCT-1-s4d1</th>\n",
              "      <td>1527</td>\n",
              "      <td>4.393116</td>\n",
              "      <td>0.663689</td>\n",
              "      <td>G1</td>\n",
              "      <td>131</td>\n",
              "      <td>3508.0</td>\n",
              "      <td>28.0</td>\n",
              "      <td>CD4+ T naive</td>\n",
              "      <td>s4d1</td>\n",
              "      <td>NaN</td>\n",
              "      <td>...</td>\n",
              "      <td>15078</td>\n",
              "      <td>34</td>\n",
              "      <td>24.8</td>\n",
              "      <td>B-</td>\n",
              "      <td>White</td>\n",
              "      <td>HISPANIC OR LATINO</td>\n",
              "      <td>Male</td>\n",
              "      <td>False</td>\n",
              "      <td>Nonsmoker</td>\n",
              "      <td>test</td>\n",
              "    </tr>\n",
              "    <tr>\n",
              "      <th>GCACGGTGTTGTACGT-1-s4d1</th>\n",
              "      <td>1776</td>\n",
              "      <td>6.349459</td>\n",
              "      <td>0.795941</td>\n",
              "      <td>G2M</td>\n",
              "      <td>136</td>\n",
              "      <td>5840.0</td>\n",
              "      <td>29.0</td>\n",
              "      <td>B1 B IGKC+</td>\n",
              "      <td>s4d1</td>\n",
              "      <td>NaN</td>\n",
              "      <td>...</td>\n",
              "      <td>15078</td>\n",
              "      <td>34</td>\n",
              "      <td>24.8</td>\n",
              "      <td>B-</td>\n",
              "      <td>White</td>\n",
              "      <td>HISPANIC OR LATINO</td>\n",
              "      <td>Male</td>\n",
              "      <td>False</td>\n",
              "      <td>Nonsmoker</td>\n",
              "      <td>test</td>\n",
              "    </tr>\n",
              "  </tbody>\n",
              "</table>\n",
              "<p>18052 rows × 26 columns</p>\n",
              "</div>\n",
              "      <button class=\"colab-df-convert\" onclick=\"convertToInteractive('df-3cb5a1b8-9fcb-41ff-84f8-483de5e9ce84')\"\n",
              "              title=\"Convert this dataframe to an interactive table.\"\n",
              "              style=\"display:none;\">\n",
              "        \n",
              "  <svg xmlns=\"http://www.w3.org/2000/svg\" height=\"24px\"viewBox=\"0 0 24 24\"\n",
              "       width=\"24px\">\n",
              "    <path d=\"M0 0h24v24H0V0z\" fill=\"none\"/>\n",
              "    <path d=\"M18.56 5.44l.94 2.06.94-2.06 2.06-.94-2.06-.94-.94-2.06-.94 2.06-2.06.94zm-11 1L8.5 8.5l.94-2.06 2.06-.94-2.06-.94L8.5 2.5l-.94 2.06-2.06.94zm10 10l.94 2.06.94-2.06 2.06-.94-2.06-.94-.94-2.06-.94 2.06-2.06.94z\"/><path d=\"M17.41 7.96l-1.37-1.37c-.4-.4-.92-.59-1.43-.59-.52 0-1.04.2-1.43.59L10.3 9.45l-7.72 7.72c-.78.78-.78 2.05 0 2.83L4 21.41c.39.39.9.59 1.41.59.51 0 1.02-.2 1.41-.59l7.78-7.78 2.81-2.81c.8-.78.8-2.07 0-2.86zM5.41 20L4 18.59l7.72-7.72 1.47 1.35L5.41 20z\"/>\n",
              "  </svg>\n",
              "      </button>\n",
              "      \n",
              "  <style>\n",
              "    .colab-df-container {\n",
              "      display:flex;\n",
              "      flex-wrap:wrap;\n",
              "      gap: 12px;\n",
              "    }\n",
              "\n",
              "    .colab-df-convert {\n",
              "      background-color: #E8F0FE;\n",
              "      border: none;\n",
              "      border-radius: 50%;\n",
              "      cursor: pointer;\n",
              "      display: none;\n",
              "      fill: #1967D2;\n",
              "      height: 32px;\n",
              "      padding: 0 0 0 0;\n",
              "      width: 32px;\n",
              "    }\n",
              "\n",
              "    .colab-df-convert:hover {\n",
              "      background-color: #E2EBFA;\n",
              "      box-shadow: 0px 1px 2px rgba(60, 64, 67, 0.3), 0px 1px 3px 1px rgba(60, 64, 67, 0.15);\n",
              "      fill: #174EA6;\n",
              "    }\n",
              "\n",
              "    [theme=dark] .colab-df-convert {\n",
              "      background-color: #3B4455;\n",
              "      fill: #D2E3FC;\n",
              "    }\n",
              "\n",
              "    [theme=dark] .colab-df-convert:hover {\n",
              "      background-color: #434B5C;\n",
              "      box-shadow: 0px 1px 3px 1px rgba(0, 0, 0, 0.15);\n",
              "      filter: drop-shadow(0px 1px 2px rgba(0, 0, 0, 0.3));\n",
              "      fill: #FFFFFF;\n",
              "    }\n",
              "  </style>\n",
              "\n",
              "      <script>\n",
              "        const buttonEl =\n",
              "          document.querySelector('#df-3cb5a1b8-9fcb-41ff-84f8-483de5e9ce84 button.colab-df-convert');\n",
              "        buttonEl.style.display =\n",
              "          google.colab.kernel.accessAllowed ? 'block' : 'none';\n",
              "\n",
              "        async function convertToInteractive(key) {\n",
              "          const element = document.querySelector('#df-3cb5a1b8-9fcb-41ff-84f8-483de5e9ce84');\n",
              "          const dataTable =\n",
              "            await google.colab.kernel.invokeFunction('convertToInteractive',\n",
              "                                                     [key], {});\n",
              "          if (!dataTable) return;\n",
              "\n",
              "          const docLinkHtml = 'Like what you see? Visit the ' +\n",
              "            '<a target=\"_blank\" href=https://colab.research.google.com/notebooks/data_table.ipynb>data table notebook</a>'\n",
              "            + ' to learn more about interactive tables.';\n",
              "          element.innerHTML = '';\n",
              "          dataTable['output_type'] = 'display_data';\n",
              "          await google.colab.output.renderOutput(dataTable, element);\n",
              "          const docLink = document.createElement('div');\n",
              "          docLink.innerHTML = docLinkHtml;\n",
              "          element.appendChild(docLink);\n",
              "        }\n",
              "      </script>\n",
              "    </div>\n",
              "  </div>\n",
              "  "
            ]
          },
          "metadata": {},
          "execution_count": 53
        }
      ]
    },
    {
      "cell_type": "markdown",
      "source": [
        "The data contained in data frame adata.obs is a detailed information of each observation (for example in our case information such as cell type or BMI of a donor)"
      ],
      "metadata": {
        "id": "UTv4PXq1y7kI"
      }
    },
    {
      "cell_type": "code",
      "source": [
        "obs = pd.concat([train_data.obs, test_data.obs])"
      ],
      "metadata": {
        "id": "81ONToqsuoPb"
      },
      "execution_count": 54,
      "outputs": []
    },
    {
      "cell_type": "markdown",
      "source": [],
      "metadata": {
        "id": "rEx_BYtcU5WK"
      }
    },
    {
      "cell_type": "code",
      "source": [
        "print(\"Number of patients: \", len(obs['DonorID'].drop_duplicates()), \n",
        "      '\\n', \n",
        "      \"Number of labs: \", len(obs['Site'].drop_duplicates()), \n",
        "      '\\n', \n",
        "      \"Number of cell types: \", len(obs['cell_type'].drop_duplicates()))"
      ],
      "metadata": {
        "colab": {
          "base_uri": "https://localhost:8080/"
        },
        "id": "3q74aTF8voRH",
        "outputId": "936c49c5-02ed-425f-f058-6af5353fdff1"
      },
      "execution_count": 55,
      "outputs": [
        {
          "output_type": "stream",
          "name": "stdout",
          "text": [
            "Number of patients:  9 \n",
            " Number of labs:  4 \n",
            " Number of cell types:  45\n"
          ]
        }
      ]
    }
  ]
}